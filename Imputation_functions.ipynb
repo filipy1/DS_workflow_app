{
 "cells": [
  {
   "attachments": {},
   "cell_type": "markdown",
   "metadata": {},
   "source": [
    "# Imputation functions\n",
    "Functions to automate the imputation of a dataset. The goal is to give a coding-free platform to sutdents/begginers that implements the imputation process semi-automatically using several techniques and presenting it back to the user."
   ]
  },
  {
   "cell_type": "markdown",
   "metadata": {},
   "source": []
  }
 ],
 "metadata": {
  "language_info": {
   "name": "python"
  },
  "orig_nbformat": 4
 },
 "nbformat": 4,
 "nbformat_minor": 2
}
